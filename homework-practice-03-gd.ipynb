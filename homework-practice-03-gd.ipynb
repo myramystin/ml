{
 "cells": [
  {
   "cell_type": "markdown",
   "metadata": {},
   "source": [
    "# Машинное обучение, ФКН ВШЭ\n",
    "\n",
    "## Практическое задание 3. Градиентный спуск своими руками\n",
    "\n",
    "### Общая информация\n",
    "Дата выдачи: **23.10.2023**\n",
    "\n",
    "Мягкий дедлайн: **08.11.23 23:59**\n",
    "\n",
    "Жесткий дедлайн: **12.11.23 23:59**"
   ]
  },
  {
   "cell_type": "markdown",
   "metadata": {},
   "source": [
    "### О задании\n",
    "\n",
    "В данном задании необходимо реализовать обучение линейной регрессии с помощью различных вариантов градиентного спуска.\n",
    "\n",
    "\n",
    "### Оценивание и штрафы\n",
    "Каждая из задач имеет определенную «стоимость» (указана в скобках около задачи). Максимально допустимая оценка за работу — 10 баллов + 2 балла бонус.\n",
    "\n",
    "Сдавать задание после указанного срока сдачи нельзя. При выставлении неполного балла за задание в связи с наличием ошибок на усмотрение проверяющего предусмотрена возможность исправить работу на указанных в ответном письме условиях.\n",
    "\n",
    "Задание выполняется самостоятельно. «Похожие» решения считаются плагиатом и все задействованные студенты (в том числе те, у кого списали) не могут получить за него больше 0 баллов (подробнее о плагиате см. на странице курса). Если вы нашли решение какого-то из заданий (или его часть) в открытом источнике, необходимо указать ссылку на этот источник в отдельном блоке в конце вашей работы (скорее всего вы будете не единственным, кто это нашел, поэтому чтобы исключить подозрение в плагиате, необходима ссылка на источник).\n",
    "\n",
    "Неэффективная реализация кода может негативно отразиться на оценке.\n",
    "Также оценка может быть снижена за плохо читаемый код и плохо считываемые диаграммы.\n",
    "\n",
    "Все ответы должны сопровождаться кодом или комментариями о том, как они были получены.\n",
    "\n",
    "\n",
    "### Формат сдачи\n",
    "Задания сдаются через систему Anytask. Инвайт можно найти на странице курса. Присылать необходимо ноутбук с выполненным заданием. Сам ноутбук называйте в формате homework-practice-03-gd-Username.ipynb, где Username — ваша фамилия.\n",
    "\n",
    "Для удобства проверки самостоятельно посчитайте свою максимальную оценку (исходя из набора решенных задач) и укажите ниже.\n",
    "\n",
    "**Оценка**: 9"
   ]
  },
  {
   "cell_type": "markdown",
   "metadata": {},
   "source": [
    "Напомним, что на лекциях и семинарах мы разбирали некоторые подходы к оптимизации функционалов по параметрам. В частности, был рассмотрен градиентный спуск и различные подходы к его реализации — полный градиентный спуск, стохастический градиентный спуск, метод импульса и другие. В качестве модели у нас будет выступать линейная регрессия.\n",
    "\n",
    "В этом домашнем задании вам предстоит реализовать 4 различных вариации градиентного спуска, написать свою реализацию линейной регресии, сравнить методы градиентного спуска между собой на реальных данных и ещё много чего веселого и интересного!"
   ]
  },
  {
   "cell_type": "markdown",
   "metadata": {},
   "source": [
    "## Задание 1. Реализация градиентного спуска (3.5 балла)\n",
    "\n",
    "В этом задании вам предстоит написать собственные реализации различных подходов к градиентному спуску с опорой на подготовленные шаблоны в файле `descents.py`.\n",
    "\n",
    "**Все реализуемые методы должны быть векторизованы!**"
   ]
  },
  {
   "cell_type": "markdown",
   "metadata": {},
   "source": [
    "### Лирическое-теоретическое отступление № 1\n",
    "\n",
    "Основное свойство антиградиента &ndash; он указывает в сторону наискорейшего убывания функции в данной точке. Соответственно, будет логично стартовать из некоторой точки, сдвинуться в сторону антиградиента,\n",
    "пересчитать антиградиент и снова сдвинуться в его сторону и т.д. Запишем это более формально.\n",
    "\n",
    "Пусть $w_0$ &ndash; начальный набор параметров (например, нулевой или сгенерированный из некоторого\n",
    "случайного распределения). Тогда ванильный градиентный спуск состоит в повторении следующих шагов до сходимости:\n",
    "\n",
    "$$\n",
    "    w_{k + 1} = w_{k} - \\eta_{k} \\nabla_{w} Q(w_{k}).\n",
    "$$"
   ]
  },
  {
   "cell_type": "markdown",
   "metadata": {},
   "source": [
    "### Лирическое-теоретическое отступление № 2\n",
    "\n",
    "На семинаре про [матрично-векторное дифференцирование](https://github.com/esokolov/ml-course-hse/blob/master/2022-fall/seminars/sem03-vector-diff.pdf) вы должны были обсуждать дифференцирование функции потерь MSE в матричном виде.\n",
    "\n",
    "### Задание 1.0. Градиент MSE в матричном виде (0 баллов).\n",
    "\n",
    "Напомним, что функция потерь MSE записывается в матричном виде как:\n",
    "\n",
    "$$\n",
    "    Q(w) = \\dfrac{1}{\\ell} \\left( y - Xw \\right)^T \\left( y - Xw \\right)\n",
    "$$\n",
    "\n",
    "Выпишите ниже (подсмотрев в семинар или решив самостоятельно) градиент для функции потерь MSE в матричном виде."
   ]
  },
  {
   "cell_type": "markdown",
   "metadata": {},
   "source": [
    "`### ваше решение тут ###`"
   ]
  },
  {
   "cell_type": "markdown",
   "metadata": {},
   "source": [
    "### Задание 1.1. Родительский класс BaseDescent (0.5 балла).\n",
    "\n",
    "Реализуйте функции `calc_loss` (вычисление MSE для переданных $x$ и $y$) и `predict` (предсказание $y_{pred}$ для переданных $x$) в классе `BaseDescent`.\n",
    "\n",
    "Все вычисления должны быть векторизованы."
   ]
  },
  {
   "cell_type": "markdown",
   "metadata": {},
   "source": [
    "### Задание 1.2. Полный градиентный спуск VanillaGradientDescent (0.5 балла).\n",
    "\n",
    "Реализуйте полный градиентный спуск заполнив пропуски в классе `VanillaGradientDescent` в файле `descents.py`. Для вычисления градиента используйте формулу выше. Шаг оптимизации:\n",
    "\n",
    "$$\n",
    "    w_{k + 1} = w_{k} - \\eta_{k} \\nabla_{w} Q(w_{k}).\n",
    "$$\n",
    "\n",
    "Здесь и далее функция `update_weights` должна возвращать разницу между $w_{k + 1}$ и $w_{k}$: $\\quad w_{k + 1} - w_{k} = -\\eta_{k} \\nabla_{w} Q(w_{k})$.\n",
    "\n",
    "Во всех методах градиентного спуска мы будем использовать следующую формулу для длины шага:\n",
    "\n",
    "$$\n",
    "    \\eta_{k} = \\lambda \\left(\\dfrac{s_0}{s_0 + k}\\right)^p\n",
    "$$\n",
    "\n",
    "На практике достаточно настроить параметр $\\lambda$, а остальным выставить параметры по умолчанию: $s_0 = 1, \\, p = 0.5.$"
   ]
  },
  {
   "cell_type": "markdown",
   "metadata": {},
   "source": [
    "### Лирическое-теоретическое отступление № 3\n",
    "\n",
    "Как правило, в задачах машинного обучения функционал $Q(w)$ представим в виде суммы $\\ell$ функций:\n",
    "\n",
    "$$\n",
    "    Q(w)\n",
    "    =\n",
    "    \\frac{1}{\\ell}\n",
    "    \\sum_{i = 1}^{\\ell}\n",
    "        q_i(w).\n",
    "$$\n",
    "\n",
    "В нашем домашнем задании отдельные функции $q_i(w)$ соответствуют ошибкам на отдельных объектах.\n",
    "\n",
    "Проблема метода градиентного спуска состоит в том, что на каждом шаге необходимо вычислять градиент всей суммы (будем его называть полным градиентом):\n",
    "\n",
    "$$\n",
    "    \\nabla_w Q(w)\n",
    "    =\n",
    "    \\frac{1}{\\ell}\n",
    "    \\sum_{i = 1}^{\\ell}\n",
    "        \\nabla_w q_i(w).\n",
    "$$\n",
    "\n",
    "Это может быть очень трудоёмко при больших размерах выборки. В то же время точное вычисление градиента может быть не так уж необходимо &ndash; как правило, мы делаем не очень большие шаги в сторону антиградиента, и наличие в нём неточностей не должно сильно сказаться на общей траектории.\n",
    "\n",
    "Оценить градиент суммы функций можно средним градиентов случайно взятого подмножества функций:\n",
    "\n",
    "$$\n",
    "    \\nabla_{w} Q(w_{k}) \\approx \\dfrac{1}{|B|}\\sum\\limits_{i \\in B}\\nabla_{w} q_{i}(w_{k}),\n",
    "$$\n",
    "где $B$ - это случайно выбранное подмножество индексов.\n",
    "\n",
    "В этом случае мы получим метод **стохастического градиентного спуска**."
   ]
  },
  {
   "cell_type": "markdown",
   "metadata": {},
   "source": [
    "### Задание 1.3. Стохастический градиентный спуск StochasticDescent (0.5 балла).\n",
    "\n",
    "Реализуйте стохастический градиентный спуск заполнив пропуски в классе `StochasticDescent`. Для оценки градиента используйте формулу выше (среднее градиентов случайно выбранного батча объектов). Шаг оптимизации:\n",
    "\n",
    "$$\n",
    "    w_{k + 1} = w_{k} - \\eta_{k} \\dfrac{1}{|B|}\\sum\\limits_{i \\in B}\\nabla_{w} q_{i}(w_{k}).\n",
    "$$\n",
    "\n",
    "Размер батча будет являться гиперпараметром метода, семплируйте индексы для батча объектов с помощью `np.random.randint`."
   ]
  },
  {
   "cell_type": "markdown",
   "metadata": {},
   "source": [
    "### Лирическое-теоретическое отступление № 4\n",
    "\n",
    "Может оказаться, что направление антиградиента сильно меняется от шага к шагу. Например, если линии уровня функционала сильно вытянуты, то из-за ортогональности градиента линиям уровня он будет менять направление на почти противоположное на каждом шаге. Такие осцилляции будут вносить сильный шум в движение, и процесс оптимизации займёт много итераций. Чтобы избежать этого, можно усреднять векторы антиградиента с нескольких предыдущих шагов &ndash; в этом случае шум уменьшится, и такой средний вектор будет указывать в сторону общего направления движения. Введём для этого вектор инерции:\n",
    "\n",
    "\\begin{align}\n",
    "    &h_0 = 0, \\\\\n",
    "    &h_{k + 1} = \\alpha h_{k} + \\eta_k \\nabla_w Q(w_{k})\n",
    "\\end{align}\n",
    "\n",
    "Здесь $\\alpha$ &ndash; параметр метода, определяющей скорость затухания градиентов с предыдущих шагов. Разумеется, вместо вектора градиента может быть использована его аппроксимация. Чтобы сделать шаг градиентного спуска, просто сдвинем предыдущую точку на вектор инерции:\n",
    "\n",
    "$$\n",
    "    w_{k + 1} = w_{k} - h_{k + 1}.\n",
    "$$\n",
    "\n",
    "Заметим, что если по какой-то координате градиент постоянно меняет знак, то в результате усреднения градиентов в векторе инерции эта координата окажется близкой к нулю. Если же по координате знак градиента всегда одинаковый, то величина соответствующей координаты в векторе инерции будет большой, и мы будем делать большие шаги в соответствующем направлении."
   ]
  },
  {
   "cell_type": "markdown",
   "metadata": {},
   "source": [
    "### Задание 1.4 Метод Momentum MomentumDescent (0.5 балла).\n",
    "\n",
    "Реализуйте градиентный спуск с методом инерции заполнив пропуски в классе `MomentumDescent`. Шаг оптимизации:\n",
    "\n",
    "\\begin{align}\n",
    "    &h_0 = 0, \\\\\n",
    "    &h_{k + 1} = \\alpha h_{k} + \\eta_k \\nabla_w Q(w_{k}) \\\\\n",
    "    &w_{k + 1} = w_{k} - h_{k + 1}.\n",
    "\\end{align}\n",
    "\n",
    "$\\alpha$ будет являться гиперпараметром метода, но в данном домашнем задании мы зафиксируем её за вас $\\alpha = 0.9$."
   ]
  },
  {
   "cell_type": "markdown",
   "metadata": {},
   "source": [
    "### Лирическое-теоретическое отступление № 5\n",
    "\n",
    "Градиентный спуск очень чувствителен к выбору длины шага. Если шаг большой, то есть риск, что мы будем перескакивать через точку минимума; если же шаг маленький, то для нахождения минимума потребуется много итераций. При этом нет способов заранее определить правильный размер шага &ndash; к тому же, схемы с постепенным уменьшением шага по мере итераций могут тоже плохо работать.\n",
    "\n",
    "В методе AdaGrad предлагается сделать свою длину шага для каждой компоненты вектора параметров. При этом шаг будет тем меньше, чем более длинные шаги мы делали на предыдущих итерациях:\n",
    "\n",
    "\\begin{align}\n",
    "    &G_{kj} = G_{k-1,j} + (\\nabla_w Q(w_{k - 1}))_j^2; \\\\\n",
    "    &w_{jk} = w_{j,k-1} - \\frac{\\eta_t}{\\sqrt{G_{kj}} + \\varepsilon} (\\nabla_w Q(w_{k - 1}))_j.\n",
    "\\end{align}\n",
    "\n",
    "Здесь $\\varepsilon$ небольшая константа, которая предотвращает деление на ноль.\n",
    "\n",
    "В данном методе можно зафксировать длину шага (например, $\\eta_k = 0.01$) и не подбирать её в процессе обучения. Отметим, что данный метод подходит для разреженных задач, в которых у каждого объекта большинство признаков равны нулю. Для признаков, у которых ненулевые значения встречаются редко, будут делаться большие шаги; если же какой-то признак часто является ненулевым, то шаги по нему будут небольшими.\n",
    "\n",
    "У метода AdaGrad есть большой недостаток: переменная $G_{kj}$ монотонно растёт, из-за чего шаги становятся всё медленнее и могут остановиться ещё до того, как достигнут минимум функционала. Проблема решается в методе RMSprop, где используется экспоненциальное затухание градиентов:\n",
    "\n",
    "$$\n",
    "    G_{kj} = \\alpha G_{k-1,j} + (1 - \\alpha) (\\nabla_w Q(w^{(k-1)}))_j^2.\n",
    "$$\n",
    "\n",
    "В этом случае размер шага по координате зависит в основном от того, насколько\n",
    "быстро мы двигались по ней на последних итерациях.\n",
    "\n",
    "Можно объединить идеи описанных выше методов: накапливать градиенты со всех прошлых шагов для\n",
    "избежания осцилляций и делать адаптивную длину шага по каждому параметру."
   ]
  },
  {
   "cell_type": "markdown",
   "metadata": {},
   "source": [
    "### Задание 1.5. Метод Adam (Adaptive Moment Estimation) (1.5 балла).\n",
    "\n",
    "![](adam_meme.png)\n",
    "\n",
    "Реализуйте градиентный спуск с методом Adam заполнив пропуски в классе `Adam`. Шаг оптимизации:\n",
    "\n",
    "\\begin{align}\n",
    "    &m_0 = 0, \\quad v_0 = 0; \\\\ \\\\\n",
    "    &m_{k + 1} = \\beta_1 m_k + (1 - \\beta_1) \\nabla_w Q(w_{k}); \\\\ \\\\\n",
    "    &v_{k + 1} = \\beta_2 v_k + (1 - \\beta_2) \\left(\\nabla_w Q(w_{k})\\right)^2; \\\\ \\\\\n",
    "    &\\widehat{m}_{k} = \\dfrac{m_k}{1 - \\beta_1^{k}}, \\quad \\widehat{v}_{k} = \\dfrac{v_k}{1 - \\beta_2^{k}}; \\\\ \\\\\n",
    "    &w_{k + 1} = w_{k} - \\dfrac{\\eta_k}{\\sqrt{\\widehat{v}_{k + 1}} + \\varepsilon} \\widehat{m}_{k + 1}.\n",
    "\\end{align}\n",
    "\n",
    "$\\beta_1 = 0.9, \\beta_2 = 0.999$ и $\\varepsilon = 10^{-8}$ будут зафиксированы за вас."
   ]
  },
  {
   "cell_type": "markdown",
   "metadata": {},
   "source": [
    "## Задание 2. Реализация линейной регресии (0.5 балла)\n",
    "\n",
    "В этом задании вам предстоит написать свою реализацию линейной регресии, обучаемой с использованием градиентного спуска, с опорой на подготовленные шаблоны в файле `linear_regression.py` - **LinearRegression**. По сути линейная регрессия будет оберткой, которая запускает обучение \n",
    "\n",
    "Необходимо соблюдать следующие условия:\n",
    "\n",
    "* Все вычисления должны быть векторизованы;\n",
    "* Циклы средствами python допускаются только для итераций градиентного спуска;\n",
    "* В качестве критерия останова необходимо использовать (одновременно):\n",
    "    * Квадрат евклидовой нормы разности весов на двух соседних итерациях меньше `tolerance`;\n",
    "    * Разность весов содержит наны;\n",
    "    * Достижение максимального числа итераций `max_iter`.\n",
    "* Будем считать, что все данные, которые поступают на вход имеют столбец единичек последним столбцом;\n",
    "* Чтобы проследить за сходимостью оптимизационного процесса будем использовать `loss_history`, в нём будем хранить значения функции потерь до каждого шага, начиная с нулевого (до первого шага по антиградиенту) и значение функции потерь после оптимизации."
   ]
  },
  {
   "cell_type": "markdown",
   "metadata": {},
   "source": [
    "## Задание 3. Проверка кода (0 баллов)"
   ]
  },
  {
   "cell_type": "code",
   "execution_count": 4,
   "metadata": {},
   "outputs": [
    {
     "name": "stdout",
     "output_type": "stream",
     "text": [
      "The autoreload extension is already loaded. To reload it, use:\n",
      "  %reload_ext autoreload\n"
     ]
    }
   ],
   "source": [
    "%load_ext autoreload"
   ]
  },
  {
   "cell_type": "code",
   "execution_count": 5,
   "metadata": {},
   "outputs": [],
   "source": [
    "%autoreload 2\n",
    "\n",
    "import numpy as np\n",
    "\n",
    "from descents import get_descent\n",
    "from linear_regression import LinearRegression"
   ]
  },
  {
   "cell_type": "code",
   "execution_count": 6,
   "metadata": {},
   "outputs": [],
   "source": [
    "num_objects = 100\n",
    "dimension = 5\n",
    "\n",
    "x = np.random.rand(num_objects, dimension)\n",
    "y = np.random.rand(num_objects)"
   ]
  },
  {
   "cell_type": "code",
   "execution_count": 27,
   "metadata": {},
   "outputs": [
    {
     "name": "stdout",
     "output_type": "stream",
     "text": [
      "full\n",
      "stochastic\n",
      "momentum\n",
      "adam\n"
     ]
    }
   ],
   "source": [
    "# Descents\n",
    "\n",
    "descent_config = {\n",
    "    'descent_name': 'some name that we will replace in the future',\n",
    "    'kwargs': {\n",
    "        'dimension': dimension\n",
    "    }\n",
    "}\n",
    "\n",
    "for descent_name in ['full', 'stochastic', 'momentum', 'adam']:\n",
    "    descent_config['descent_name'] = descent_name\n",
    "    descent = get_descent(descent_config)\n",
    "\n",
    "    diff = descent.step(x, y)\n",
    "    gradient = descent.calc_gradient(x, y)\n",
    "    predictions = descent.predict(x)\n",
    "\n",
    "    assert gradient.shape[0] == dimension, f'Gradient failed for descent {descent_name}'\n",
    "    assert diff.shape[0] == dimension, f'Weights failed for descent {descent_name}'\n",
    "    assert predictions.shape == y.shape, f'Prediction failed for descent {descent_name}'\n",
    "    print(descent_name)"
   ]
  },
  {
   "cell_type": "code",
   "execution_count": 28,
   "metadata": {},
   "outputs": [],
   "source": [
    "# LinearRegression\n",
    "\n",
    "max_iter = 10\n",
    "tolerance = 0\n",
    "\n",
    "descent_config = {\n",
    "    'descent_name': 'stochastic',\n",
    "    'kwargs': {\n",
    "        'dimension': dimension,\n",
    "        'batch_size': 10\n",
    "    }\n",
    "}\n",
    "\n",
    "regression = LinearRegression(\n",
    "    descent_config=descent_config,\n",
    "    tolerance=tolerance,\n",
    "    max_iter=max_iter\n",
    ")\n",
    "\n",
    "regression.fit(x, y)\n",
    "\n",
    "assert len(regression.loss_history) == max_iter + 1, 'Loss history failed'"
   ]
  },
  {
   "cell_type": "markdown",
   "metadata": {},
   "source": [
    "Если ваше решение прошло все тесты локально, то теперь пришло время протестировать его в [Яндекс Контесте](https://contest.yandex.ru/contest/54610/).\n",
    "\n",
    "Для каждой задачи из контеста вставьте ссылку на успешную посылку:\n",
    "\n",
    "* **VanillaGradientDescent**: https://contest.yandex.ru/contest/54610/run-report/96332853/\n",
    "\n",
    "\n",
    "* **StochasticDescent**: https://contest.yandex.ru/contest/54610/run-report/96333653/\n",
    "\n",
    "\n",
    "* **MomentumDescent**: https://contest.yandex.ru/contest/54610/run-report/96333834/\n",
    "\n",
    "\n",
    "* **Adam**: https://contest.yandex.ru/contest/54610/run-report/96334433/\n",
    "\n",
    "\n",
    "* **LinearRegression**: https://contest.yandex.ru/contest/54610/run-report/96334762/"
   ]
  },
  {
   "cell_type": "markdown",
   "metadata": {},
   "source": [
    "## Задание 4. Работа с данными (1 балл)\n",
    "\n",
    "Мы будем использовать датасет объявлений по продаже машин на немецком Ebay. В задаче предсказания целевой переменной для нас будет являться цена."
   ]
  },
  {
   "cell_type": "markdown",
   "metadata": {},
   "source": [
    "* Постройте график распределения целевой переменной в данных, подумайте, нужно ли заменить её на логарифм. Присутствуют ли выбросы в данных с аномальной ценой? Если да, то удалите их из данных.\n",
    "\n",
    "* Проведите исследование данных:\n",
    "    * Проанализируйте тип столбцов, постройте графики зависимости целевой переменной от признака, распределения значений признака;\n",
    "    * Подумайте, какие признаки могут быть полезными на основе этих графиков, обработайте выбросы;\n",
    "    * Подумайте, какие трансформации признаков из известных вам будет уместно применить;\n",
    "    * Разделите полезные признаки на категориальные, вещественные и те, которые не надо предобрабатывать.\n",
    "* Разделите данные на обучающую, валидационную и тестовую выборки в отношении 8:1:1."
   ]
  },
  {
   "cell_type": "code",
   "execution_count": 29,
   "metadata": {},
   "outputs": [],
   "source": [
    "import numpy as np\n",
    "import pandas as pd\n",
    "\n",
    "import matplotlib.pyplot as plt\n",
    "import seaborn as sns\n",
    "\n",
    "from descents import get_descent\n",
    "from linear_regression import LinearRegression\n",
    "\n",
    "sns.set(style='darkgrid')"
   ]
  },
  {
   "cell_type": "code",
   "execution_count": 30,
   "metadata": {},
   "outputs": [],
   "source": [
    "data = pd.read_csv('data/autos.csv')"
   ]
  },
  {
   "cell_type": "code",
   "execution_count": 31,
   "metadata": {},
   "outputs": [
    {
     "data": {
      "text/plain": "        brand    model vehicleType  gearbox fuelType notRepairedDamage  \\\n0  volkswagen     golf  kleinwagen  manuell   benzin              nein   \n1       skoda    fabia  kleinwagen  manuell   diesel              nein   \n2         bmw      3er   limousine  manuell   benzin                ja   \n3     peugeot  2_reihe      cabrio  manuell   benzin              nein   \n4       mazda  3_reihe   limousine  manuell   benzin              nein   \n\n   powerPS  kilometer  autoAgeMonths  price  \n0       75     150000            177   1500  \n1       69      90000             93   3600  \n2      102     150000            246    650  \n3      109     150000            140   2200  \n4      105     150000            136   2000  ",
      "text/html": "<div>\n<style scoped>\n    .dataframe tbody tr th:only-of-type {\n        vertical-align: middle;\n    }\n\n    .dataframe tbody tr th {\n        vertical-align: top;\n    }\n\n    .dataframe thead th {\n        text-align: right;\n    }\n</style>\n<table border=\"1\" class=\"dataframe\">\n  <thead>\n    <tr style=\"text-align: right;\">\n      <th></th>\n      <th>brand</th>\n      <th>model</th>\n      <th>vehicleType</th>\n      <th>gearbox</th>\n      <th>fuelType</th>\n      <th>notRepairedDamage</th>\n      <th>powerPS</th>\n      <th>kilometer</th>\n      <th>autoAgeMonths</th>\n      <th>price</th>\n    </tr>\n  </thead>\n  <tbody>\n    <tr>\n      <th>0</th>\n      <td>volkswagen</td>\n      <td>golf</td>\n      <td>kleinwagen</td>\n      <td>manuell</td>\n      <td>benzin</td>\n      <td>nein</td>\n      <td>75</td>\n      <td>150000</td>\n      <td>177</td>\n      <td>1500</td>\n    </tr>\n    <tr>\n      <th>1</th>\n      <td>skoda</td>\n      <td>fabia</td>\n      <td>kleinwagen</td>\n      <td>manuell</td>\n      <td>diesel</td>\n      <td>nein</td>\n      <td>69</td>\n      <td>90000</td>\n      <td>93</td>\n      <td>3600</td>\n    </tr>\n    <tr>\n      <th>2</th>\n      <td>bmw</td>\n      <td>3er</td>\n      <td>limousine</td>\n      <td>manuell</td>\n      <td>benzin</td>\n      <td>ja</td>\n      <td>102</td>\n      <td>150000</td>\n      <td>246</td>\n      <td>650</td>\n    </tr>\n    <tr>\n      <th>3</th>\n      <td>peugeot</td>\n      <td>2_reihe</td>\n      <td>cabrio</td>\n      <td>manuell</td>\n      <td>benzin</td>\n      <td>nein</td>\n      <td>109</td>\n      <td>150000</td>\n      <td>140</td>\n      <td>2200</td>\n    </tr>\n    <tr>\n      <th>4</th>\n      <td>mazda</td>\n      <td>3_reihe</td>\n      <td>limousine</td>\n      <td>manuell</td>\n      <td>benzin</td>\n      <td>nein</td>\n      <td>105</td>\n      <td>150000</td>\n      <td>136</td>\n      <td>2000</td>\n    </tr>\n  </tbody>\n</table>\n</div>"
     },
     "execution_count": 31,
     "metadata": {},
     "output_type": "execute_result"
    }
   ],
   "source": [
    "data.head()"
   ]
  },
  {
   "cell_type": "markdown",
   "metadata": {},
   "source": [
    "Колонки в данных:\n",
    "\n",
    "* `brand` - название бренда автомобиля\n",
    "* `model` - название модели автомобиля\n",
    "* `vehicleType` - тип транспортного средства\n",
    "* `gearbox` - тип трансмисcии\n",
    "* `fuelType` - какой вид топлива использует автомобиль\n",
    "* `notRepairedDamage` - есть ли в автомобиле неисправность, которая еще не устранена\n",
    "* `powerPS` - мощность автомобиля в PS (метрическая лошадиная сила)\n",
    "* `kilometer` - сколько километров проехал автомобиль, пробег\n",
    "* `autoAgeMonths` - возраст автомобиля в месяцах\n",
    "\n",
    "\n",
    "* `price` - цена, указанная в объявлении о продаже автомобиля (целевая переменная)"
   ]
  },
  {
   "cell_type": "code",
   "execution_count": 33,
   "outputs": [
    {
     "data": {
      "text/plain": "<Figure size 864x288 with 2 Axes>",
      "image/png": "[encoded data removed]"
     },
     "metadata": {
      "needs_background": "light"
     },
     "output_type": "display_data"
    }
   ],
   "source": [
    "# распределение цены и логарифма цены\n",
    "fig, axes = plt.subplots(1, 2, figsize=(12, 4))\n",
    "\n",
    "ax1 = sns.histplot(data['price'], ax=axes[0])\n",
    "ax1.set(title='price')\n",
    "\n",
    "ax2 = sns.histplot(np.log(data['price']), ax=axes[1])\n",
    "ax2.set(title='log price')\n",
    "\n",
    "plt.tight_layout()\n",
    "plt.show()\n"
   ],
   "metadata": {
    "collapsed": false
   }
  },
  {
   "cell_type": "markdown",
   "source": [
    "у логарифма распределение лучше (тк ближе к нормальному) и лин модель сможет в более сложную модель"
   ],
   "metadata": {
    "collapsed": false
   }
  },
  {
   "cell_type": "code",
   "execution_count": 34,
   "outputs": [
    {
     "data": {
      "text/plain": "<Figure size 432x288 with 1 Axes>",
      "image/png": "[encoded data removed]"
     },
     "metadata": {
      "needs_background": "light"
     },
     "output_type": "display_data"
    }
   ],
   "source": [
    "# выбросы\n",
    "sns.boxplot(x=data['price']);"
   ],
   "metadata": {
    "collapsed": false
   }
  },
  {
   "cell_type": "markdown",
   "source": [
    "похоже что выбросы есть (точки справа)"
   ],
   "metadata": {
    "collapsed": false
   }
  },
  {
   "cell_type": "code",
   "execution_count": 35,
   "outputs": [
    {
     "data": {
      "text/plain": "count    241190.000000\nmean       6887.741892\nstd        8024.451993\nmin           1.000000\n25%        1750.000000\n50%        4100.000000\n75%        8999.000000\nmax       99999.000000\nName: price, dtype: float64"
     },
     "execution_count": 35,
     "metadata": {},
     "output_type": "execute_result"
    }
   ],
   "source": [
    "data['price'].describe()"
   ],
   "metadata": {
    "collapsed": false
   }
  },
  {
   "cell_type": "code",
   "execution_count": 36,
   "outputs": [],
   "source": [
    "data = data[data['price'] < 20000]\n",
    "data.loc[:, 'log_price'] = np.log(data.loc[:, 'price'])"
   ],
   "metadata": {
    "collapsed": false
   }
  },
  {
   "cell_type": "code",
   "execution_count": 38,
   "outputs": [
    {
     "data": {
      "text/plain": "<Figure size 1440x360 with 3 Axes>",
      "image/png": "[encoded data removed]"
     },
     "metadata": {
      "needs_background": "light"
     },
     "output_type": "display_data"
    }
   ],
   "source": [
    "fig, axes = plt.subplots(1,3,figsize=(20,5))\n",
    "\n",
    "sns.histplot(data['price'], ax=axes[0])\n",
    "axes[0].set(title='Распределение цены без выбросов')\n",
    "\n",
    "sns.histplot(data['log_price'], ax=axes[1])\n",
    "axes[1].set(title='Распределение логарифма цены без выбросов')\n",
    "\n",
    "sns.boxplot(x=data['price'], ax=axes[2])"
   ],
   "metadata": {
    "collapsed": false
   }
  },
  {
   "cell_type": "markdown",
   "source": [
    "теперь выглядит норм"
   ],
   "metadata": {
    "collapsed": false
   }
  },
  {
   "cell_type": "code",
   "execution_count": 39,
   "outputs": [
    {
     "data": {
      "text/plain": "brand                 object\nmodel                 object\nvehicleType           object\ngearbox               object\nfuelType              object\nnotRepairedDamage     object\npowerPS                int64\nkilometer              int64\nautoAgeMonths          int64\nprice                  int64\nlog_price            float64\ndtype: object"
     },
     "execution_count": 39,
     "metadata": {},
     "output_type": "execute_result"
    }
   ],
   "source": [
    "data.dtypes"
   ],
   "metadata": {
    "collapsed": false
   }
  },
  {
   "cell_type": "markdown",
   "source": [
    "не хочется выбрасывать признаки - их и так мало"
   ],
   "metadata": {
    "collapsed": false
   }
  },
  {
   "cell_type": "code",
   "execution_count": 60,
   "metadata": {},
   "outputs": [],
   "source": [
    "categorical = ['brand', 'model', 'vehicleType', 'fuelType', 'gearbox', 'notRepairedDamage']\n",
    "numeric = ['powerPS', 'kilometer', 'autoAgeMonths']\n",
    "other = []\n",
    "\n",
    "# YOUR CODE (EDA):"
   ]
  },
  {
   "cell_type": "code",
   "execution_count": 61,
   "metadata": {},
   "outputs": [],
   "source": [
    "data['bias'] = 1\n",
    "other += ['bias']\n",
    "\n",
    "x = data[categorical + numeric + other]\n",
    "y = data['price']"
   ]
  },
  {
   "cell_type": "code",
   "execution_count": 62,
   "metadata": {},
   "outputs": [],
   "source": [
    "from sklearn.compose import ColumnTransformer\n",
    "from sklearn.preprocessing import OneHotEncoder\n",
    "from sklearn.preprocessing import StandardScaler\n",
    "\n",
    "\n",
    "column_transformer = ColumnTransformer([\n",
    "    ('ohe', OneHotEncoder(handle_unknown='ignore'), categorical),\n",
    "    ('scaling', StandardScaler(), numeric),\n",
    "    ('other',  'passthrough', other)\n",
    "])\n",
    "\n",
    "x = column_transformer.fit_transform(x)"
   ]
  },
  {
   "cell_type": "code",
   "execution_count": 63,
   "metadata": {},
   "outputs": [],
   "source": [
    "# YOUR CODE (data split into train/val/test):\n",
    "from sklearn.model_selection import train_test_split\n",
    "\n",
    "X_train, X_test, y_train, y_test = train_test_split(\n",
    "    x, y, test_size=0.1, random_state=42)\n",
    "X_train, X_val, y_train, y_val = train_test_split(\n",
    "    X_train, y_train, test_size=1/9, random_state=42)\n",
    "\n",
    "\n"
   ]
  },
  {
   "cell_type": "markdown",
   "metadata": {},
   "source": [
    "## Задание 5. Сравнение методов градиентного спуска (2 балла)\n",
    "\n",
    "В этом задании вам предстоит сравнить методы градиентного спуска на подготовленных вами данных из предыдущего задания."
   ]
  },
  {
   "cell_type": "markdown",
   "metadata": {},
   "source": [
    "### Задание 5.1. Подбор оптимальной длины шага (1 балл)\n",
    "\n",
    "Подберите по валидационной выборке наилучшую длину шага $\\lambda$ для каждого метода с точки зрения ошибки. Для этого сделайте перебор по логарифмической сетке. Для каждого метода посчитайте ошибку на обучающей и тестовой выборках, посчитайте качество по метрике $R^2$, сохраните количество итераций до сходимости.\n",
    "\n",
    "Все параметры кроме `lambda_` стоит выставить равным значениям по умолчанию."
   ]
  },
  {
   "cell_type": "code",
   "execution_count": 64,
   "metadata": {},
   "outputs": [
    {
     "name": "stderr",
     "output_type": "stream",
     "text": [
      "/Users/dariaonikova/Desktop/studies/ami-year3/ml/descents.py:83: RuntimeWarning: overflow encountered in matmul\n",
      "  return residual.T @ residual / n\n",
      "/Users/dariaonikova/Desktop/studies/ami-year3/ml/descents.py:83: RuntimeWarning: overflow encountered in matmul\n",
      "  return residual.T @ residual / n\n",
      "/Users/dariaonikova/Desktop/studies/ami-year3/ml/descents.py:83: RuntimeWarning: overflow encountered in matmul\n",
      "  return residual.T @ residual / n\n"
     ]
    }
   ],
   "source": [
    "# YOUR CODE:\n",
    "from sklearn.metrics import r2_score\n",
    "\n",
    "\n",
    "def fit(config):\n",
    "    reg = LinearRegression(\n",
    "        descent_config=config\n",
    "    )\n",
    "    reg.fit(X_train, y_train.to_numpy())\n",
    "    return reg\n",
    "\n",
    "def calc_loss(config):\n",
    "    reg = fit(config)\n",
    "    return reg.calc_loss(X_val, y_val.to_numpy())\n",
    "\n",
    "config_names = ['full', 'stochastic', 'momentum', 'adam']\n",
    "stats1 = pd.DataFrame(index=config_names,\n",
    "                      columns=['best_lambda', 'best_loss',\n",
    "                               'loss_history', 'num_iters',\n",
    "                               'best_loss_train', 'best_loss_test',\n",
    "                               'r2_train', 'r2_test'])\n",
    "for name in config_names:\n",
    "    lambdas = np.logspace(-5, 1, 7)\n",
    "    losses = []\n",
    "    curr_config = {\n",
    "        'descent_name': name,\n",
    "        'kwargs': {\n",
    "            'dimension': X_train.shape[1],\n",
    "        }\n",
    "    }\n",
    "    for lambda_ in lambdas:\n",
    "        curr_config['kwargs']['lambda_'] = lambda_\n",
    "        losses.append(calc_loss(curr_config))\n",
    "\n",
    "    best_lambda = lambdas[np.argmin(losses)]\n",
    "    curr_config['kwargs']['lambda_'] = best_lambda\n",
    "    best_loss = np.min(losses)\n",
    "    regression = fit(curr_config)\n",
    "    iters = len(regression.loss_history) - 1\n",
    "\n",
    "    stats1.loc[name, 'best_lambda'] = best_lambda\n",
    "    stats1.loc[name, 'best_loss'] = best_loss\n",
    "    stats1.loc[name, 'loss_history'] = regression.loss_history\n",
    "    stats1.loc[name, 'num_iters'] = iters\n",
    "    stats1.loc[name, 'best_loss_train'] = regression.calc_loss(X_train, y_train.to_numpy())\n",
    "    stats1.loc[name, 'best_loss_test'] = regression.calc_loss(X_test, y_test.to_numpy())\n",
    "    stats1.loc[name, 'r2_train'] = r2_score(y_train, regression.predict(X_train))\n",
    "    stats1.loc[name, 'r2_test'] = r2_score(y_test, regression.predict(X_test))\n",
    "\n",
    "\n"
   ]
  },
  {
   "cell_type": "code",
   "execution_count": null,
   "outputs": [],
   "source": [],
   "metadata": {
    "collapsed": false
   }
  },
  {
   "cell_type": "markdown",
   "metadata": {},
   "source": [
    "### Задание 5.2. Сравнение методов (1 балла) \n",
    "\n",
    "Постройте график зависимости ошибки на обучающей выборке от номера итерации (все методы на одном графике).\n",
    "\n",
    "Посмотрите на получившиеся результаты (таблички с метриками и график). Сравните методы между собой."
   ]
  },
  {
   "cell_type": "code",
   "execution_count": 65,
   "metadata": {},
   "outputs": [
    {
     "data": {
      "text/plain": "           best_lambda        best_loss  \\\nfull               1.0   6645013.731712   \nstochastic         0.1   7323403.829039   \nmomentum           1.0   6244519.535089   \nadam              10.0  28352859.594001   \n\n                                                 loss_history num_iters  \\\nfull        [51077139.72291322, 407552661.97553116, 332231...       300   \nstochastic  [51068852.052472614, 25056725.237507675, 20458...       300   \nmomentum    [51084144.70409901, 407649258.07963324, 126900...       300   \nadam        [51085803.44741519, 50456787.992989875, 499472...       300   \n\n            best_loss_train   best_loss_test  r2_train   r2_test  \nfull         6624807.978177   6801340.224739  0.702516  0.697429  \nstochastic   7341132.095633   7539556.611364   0.67035  0.664588  \nmomentum     6171201.699325   6313710.091918  0.722885  0.719122  \nadam        28885378.211811  29183480.495602 -0.297085 -0.298286  ",
      "text/html": "<div>\n<style scoped>\n    .dataframe tbody tr th:only-of-type {\n        vertical-align: middle;\n    }\n\n    .dataframe tbody tr th {\n        vertical-align: top;\n    }\n\n    .dataframe thead th {\n        text-align: right;\n    }\n</style>\n<table border=\"1\" class=\"dataframe\">\n  <thead>\n    <tr style=\"text-align: right;\">\n      <th></th>\n      <th>best_lambda</th>\n      <th>best_loss</th>\n      <th>loss_history</th>\n      <th>num_iters</th>\n      <th>best_loss_train</th>\n      <th>best_loss_test</th>\n      <th>r2_train</th>\n      <th>r2_test</th>\n    </tr>\n  </thead>\n  <tbody>\n    <tr>\n      <th>full</th>\n      <td>1.0</td>\n      <td>6645013.731712</td>\n      <td>[51077139.72291322, 407552661.97553116, 332231...</td>\n      <td>300</td>\n      <td>6624807.978177</td>\n      <td>6801340.224739</td>\n      <td>0.702516</td>\n      <td>0.697429</td>\n    </tr>\n    <tr>\n      <th>stochastic</th>\n      <td>0.1</td>\n      <td>7323403.829039</td>\n      <td>[51068852.052472614, 25056725.237507675, 20458...</td>\n      <td>300</td>\n      <td>7341132.095633</td>\n      <td>7539556.611364</td>\n      <td>0.67035</td>\n      <td>0.664588</td>\n    </tr>\n    <tr>\n      <th>momentum</th>\n      <td>1.0</td>\n      <td>6244519.535089</td>\n      <td>[51084144.70409901, 407649258.07963324, 126900...</td>\n      <td>300</td>\n      <td>6171201.699325</td>\n      <td>6313710.091918</td>\n      <td>0.722885</td>\n      <td>0.719122</td>\n    </tr>\n    <tr>\n      <th>adam</th>\n      <td>10.0</td>\n      <td>28352859.594001</td>\n      <td>[51085803.44741519, 50456787.992989875, 499472...</td>\n      <td>300</td>\n      <td>28885378.211811</td>\n      <td>29183480.495602</td>\n      <td>-0.297085</td>\n      <td>-0.298286</td>\n    </tr>\n  </tbody>\n</table>\n</div>"
     },
     "execution_count": 65,
     "metadata": {},
     "output_type": "execute_result"
    }
   ],
   "source": [
    "# YOUR CODE:\n",
    "stats1.head()"
   ]
  },
  {
   "cell_type": "code",
   "execution_count": 67,
   "outputs": [
    {
     "data": {
      "text/plain": "        index best_lambda        best_loss  \\\n0        full         1.0   6645013.731712   \n1  stochastic         0.1   7323403.829039   \n2    momentum         1.0   6244519.535089   \n3        adam        10.0  28352859.594001   \n\n                                        loss_history num_iters  \\\n0  [51077139.72291322, 407552661.97553116, 332231...       300   \n1  [51068852.052472614, 25056725.237507675, 20458...       300   \n2  [51084144.70409901, 407649258.07963324, 126900...       300   \n3  [51085803.44741519, 50456787.992989875, 499472...       300   \n\n   best_loss_train   best_loss_test  r2_train   r2_test  \n0   6624807.978177   6801340.224739  0.702516  0.697429  \n1   7341132.095633   7539556.611364   0.67035  0.664588  \n2   6171201.699325   6313710.091918  0.722885  0.719122  \n3  28885378.211811  29183480.495602 -0.297085 -0.298286  ",
      "text/html": "<div>\n<style scoped>\n    .dataframe tbody tr th:only-of-type {\n        vertical-align: middle;\n    }\n\n    .dataframe tbody tr th {\n        vertical-align: top;\n    }\n\n    .dataframe thead th {\n        text-align: right;\n    }\n</style>\n<table border=\"1\" class=\"dataframe\">\n  <thead>\n    <tr style=\"text-align: right;\">\n      <th></th>\n      <th>index</th>\n      <th>best_lambda</th>\n      <th>best_loss</th>\n      <th>loss_history</th>\n      <th>num_iters</th>\n      <th>best_loss_train</th>\n      <th>best_loss_test</th>\n      <th>r2_train</th>\n      <th>r2_test</th>\n    </tr>\n  </thead>\n  <tbody>\n    <tr>\n      <th>0</th>\n      <td>full</td>\n      <td>1.0</td>\n      <td>6645013.731712</td>\n      <td>[51077139.72291322, 407552661.97553116, 332231...</td>\n      <td>300</td>\n      <td>6624807.978177</td>\n      <td>6801340.224739</td>\n      <td>0.702516</td>\n      <td>0.697429</td>\n    </tr>\n    <tr>\n      <th>1</th>\n      <td>stochastic</td>\n      <td>0.1</td>\n      <td>7323403.829039</td>\n      <td>[51068852.052472614, 25056725.237507675, 20458...</td>\n      <td>300</td>\n      <td>7341132.095633</td>\n      <td>7539556.611364</td>\n      <td>0.67035</td>\n      <td>0.664588</td>\n    </tr>\n    <tr>\n      <th>2</th>\n      <td>momentum</td>\n      <td>1.0</td>\n      <td>6244519.535089</td>\n      <td>[51084144.70409901, 407649258.07963324, 126900...</td>\n      <td>300</td>\n      <td>6171201.699325</td>\n      <td>6313710.091918</td>\n      <td>0.722885</td>\n      <td>0.719122</td>\n    </tr>\n    <tr>\n      <th>3</th>\n      <td>adam</td>\n      <td>10.0</td>\n      <td>28352859.594001</td>\n      <td>[51085803.44741519, 50456787.992989875, 499472...</td>\n      <td>300</td>\n      <td>28885378.211811</td>\n      <td>29183480.495602</td>\n      <td>-0.297085</td>\n      <td>-0.298286</td>\n    </tr>\n  </tbody>\n</table>\n</div>"
     },
     "execution_count": 67,
     "metadata": {},
     "output_type": "execute_result"
    }
   ],
   "source": [
    "stats1_1 = stats1.reset_index()\n",
    "stats1_1"
   ],
   "metadata": {
    "collapsed": false
   }
  },
  {
   "cell_type": "code",
   "execution_count": 77,
   "outputs": [
    {
     "name": "stdout",
     "output_type": "stream",
     "text": [
      "full\n",
      "stochastic\n",
      "momentum\n",
      "adam\n"
     ]
    },
    {
     "data": {
      "text/plain": "<Figure size 1440x360 with 4 Axes>",
      "image/png": "[encoded data removed]"
     },
     "metadata": {
      "needs_background": "light"
     },
     "output_type": "display_data"
    }
   ],
   "source": [
    "\n",
    "fig, axes = plt.subplots(1, 4 , figsize=(20, 5))\n",
    "\n",
    "for i, ax in zip(stats1_1.index, axes):\n",
    "    ax.plot(stats1_1.loc[i, 'loss_history'], alpha=0.9)\n",
    "    print(stats1_1.loc[i, 'index'])\n",
    "    ax.set_title(stats1_1.loc[i, 'index'])\n",
    "    ax.set_xlim(-1, 100)\n",
    "    ax.set_xlabel('Number of iterations')\n",
    "    ax.set_ylabel('MSE loss')\n",
    "\n",
    "plt.tight_layout()\n",
    "plt.show()\n"
   ],
   "metadata": {
    "collapsed": false
   }
  },
  {
   "cell_type": "markdown",
   "source": [],
   "metadata": {
    "collapsed": false
   }
  },
  {
   "cell_type": "markdown",
   "metadata": {},
   "source": [
    "`### ваше решение тут ###`\n",
    "\n",
    "как будто бы по r^2 лучше всего adam, по времени хуже всего full, momentum - быстро учится, но хуже адама"
   ]
  },
  {
   "cell_type": "markdown",
   "metadata": {},
   "source": [
    "## Задание 6. Стохастический градиентный спуск и размер батча (1 балл)\n",
    "\n",
    "В этом задании вам предстоит исследовать влияние размера батча на работу стохастического градиентного спуска. \n",
    "\n",
    "* Сделайте по несколько запусков (например, k = 10) стохастического градиентного спуска на обучающей выборке для каждого размера батча из перебираемого списка. Замерьте время в секундах и количество итераций до сходимости. Посчитайте среднее этих значений для каждого размера батча.\n",
    "* Постройте график зависимости количества шагов до сходимости от размера батча.\n",
    "* Постройте график зависимости времени до сходимости от размера батча.\n",
    "\n",
    "Посмотрите на получившиеся результаты. Какие выводы можно сделать про подбор размера батча для стохастического градиентного спуска?"
   ]
  },
  {
   "cell_type": "markdown",
   "source": [],
   "metadata": {
    "collapsed": false
   }
  },
  {
   "cell_type": "code",
   "execution_count": 86,
   "metadata": {},
   "outputs": [
    {
     "name": "stdout",
     "output_type": "stream",
     "text": [
      "301\n",
      "301\n",
      "301\n",
      "301\n",
      "301\n",
      "301\n",
      "301\n",
      "301\n",
      "301\n",
      "301\n",
      "301\n",
      "301\n",
      "301\n",
      "301\n",
      "301\n",
      "301\n",
      "301\n",
      "301\n",
      "301\n",
      "301\n",
      "301\n",
      "301\n",
      "301\n",
      "301\n",
      "301\n",
      "301\n",
      "301\n",
      "301\n",
      "301\n",
      "301\n",
      "301\n",
      "301\n",
      "301\n",
      "301\n",
      "301\n",
      "301\n",
      "301\n",
      "301\n",
      "301\n",
      "301\n",
      "301\n",
      "301\n",
      "301\n",
      "301\n",
      "301\n",
      "301\n",
      "301\n",
      "301\n",
      "301\n",
      "301\n",
      "301\n",
      "301\n",
      "301\n",
      "301\n",
      "301\n",
      "301\n",
      "301\n",
      "301\n",
      "301\n",
      "301\n",
      "301\n",
      "301\n",
      "301\n",
      "301\n",
      "301\n",
      "301\n",
      "301\n",
      "301\n",
      "301\n",
      "301\n",
      "301\n",
      "301\n",
      "301\n",
      "301\n",
      "301\n",
      "301\n",
      "301\n",
      "301\n",
      "301\n",
      "301\n",
      "301\n",
      "301\n",
      "301\n",
      "301\n",
      "301\n",
      "301\n",
      "301\n",
      "301\n",
      "301\n",
      "301\n",
      "301\n",
      "301\n",
      "301\n",
      "301\n",
      "301\n",
      "301\n",
      "301\n",
      "301\n",
      "301\n",
      "301\n",
      "301\n",
      "301\n",
      "301\n",
      "301\n",
      "301\n",
      "301\n",
      "301\n",
      "301\n",
      "301\n",
      "301\n",
      "301\n",
      "301\n",
      "301\n",
      "301\n",
      "301\n",
      "301\n",
      "301\n",
      "301\n",
      "301\n",
      "301\n",
      "301\n",
      "301\n",
      "301\n",
      "301\n",
      "301\n",
      "301\n",
      "301\n",
      "301\n",
      "301\n",
      "301\n",
      "301\n",
      "301\n",
      "301\n",
      "301\n",
      "301\n",
      "301\n",
      "301\n",
      "301\n",
      "301\n",
      "301\n",
      "301\n",
      "301\n",
      "301\n",
      "301\n",
      "301\n",
      "301\n",
      "301\n",
      "301\n",
      "301\n",
      "301\n",
      "301\n",
      "301\n",
      "301\n",
      "301\n",
      "301\n",
      "301\n",
      "301\n",
      "301\n",
      "301\n",
      "301\n",
      "301\n",
      "301\n",
      "301\n",
      "301\n",
      "301\n",
      "301\n",
      "301\n",
      "301\n",
      "301\n",
      "301\n",
      "301\n",
      "301\n",
      "301\n",
      "301\n",
      "301\n",
      "301\n",
      "301\n",
      "301\n",
      "301\n",
      "301\n",
      "301\n",
      "301\n",
      "301\n",
      "301\n",
      "301\n",
      "301\n",
      "301\n",
      "301\n",
      "301\n",
      "301\n",
      "301\n",
      "301\n",
      "301\n",
      "301\n",
      "301\n",
      "301\n",
      "301\n",
      "301\n",
      "301\n",
      "301\n",
      "301\n",
      "301\n",
      "301\n",
      "301\n",
      "301\n",
      "301\n",
      "301\n",
      "301\n",
      "301\n",
      "301\n",
      "301\n",
      "301\n",
      "301\n",
      "301\n",
      "301\n",
      "301\n",
      "301\n",
      "301\n",
      "301\n",
      "301\n",
      "301\n",
      "301\n",
      "301\n",
      "301\n",
      "301\n",
      "301\n",
      "301\n",
      "301\n",
      "301\n",
      "301\n",
      "301\n",
      "301\n",
      "301\n",
      "301\n",
      "301\n",
      "301\n",
      "301\n",
      "301\n",
      "301\n",
      "301\n",
      "301\n",
      "301\n",
      "301\n",
      "301\n",
      "301\n",
      "301\n",
      "301\n",
      "301\n",
      "301\n",
      "301\n",
      "301\n",
      "301\n",
      "301\n",
      "301\n",
      "301\n",
      "301\n",
      "301\n",
      "301\n",
      "301\n",
      "301\n",
      "301\n",
      "301\n",
      "301\n",
      "301\n",
      "301\n",
      "301\n",
      "301\n",
      "301\n",
      "301\n",
      "301\n",
      "301\n",
      "301\n",
      "301\n",
      "301\n",
      "301\n",
      "301\n",
      "301\n",
      "301\n",
      "301\n",
      "301\n",
      "301\n",
      "301\n",
      "301\n",
      "301\n",
      "301\n",
      "301\n",
      "301\n",
      "301\n",
      "301\n",
      "301\n",
      "301\n",
      "301\n",
      "301\n",
      "301\n",
      "301\n",
      "301\n",
      "301\n",
      "301\n",
      "301\n",
      "301\n",
      "301\n",
      "301\n",
      "301\n",
      "301\n",
      "301\n",
      "301\n",
      "301\n",
      "301\n",
      "301\n",
      "301\n",
      "301\n",
      "301\n",
      "301\n",
      "301\n",
      "301\n",
      "301\n",
      "301\n",
      "301\n",
      "301\n",
      "301\n",
      "301\n",
      "301\n",
      "301\n",
      "301\n",
      "301\n",
      "301\n",
      "301\n",
      "301\n",
      "301\n",
      "301\n",
      "301\n",
      "301\n",
      "301\n",
      "301\n",
      "301\n",
      "301\n",
      "301\n",
      "301\n",
      "301\n",
      "301\n",
      "301\n",
      "301\n",
      "301\n",
      "301\n",
      "301\n",
      "301\n",
      "301\n",
      "301\n",
      "301\n",
      "301\n",
      "301\n",
      "301\n",
      "301\n",
      "301\n",
      "301\n",
      "301\n",
      "301\n",
      "301\n",
      "301\n",
      "301\n",
      "301\n",
      "301\n",
      "301\n",
      "301\n",
      "301\n",
      "301\n",
      "301\n",
      "301\n",
      "301\n",
      "301\n",
      "301\n",
      "301\n",
      "301\n",
      "301\n",
      "301\n",
      "301\n",
      "301\n",
      "301\n",
      "301\n",
      "301\n",
      "301\n",
      "301\n",
      "301\n",
      "301\n",
      "301\n",
      "301\n",
      "301\n",
      "301\n",
      "301\n",
      "301\n",
      "301\n",
      "301\n",
      "301\n",
      "301\n",
      "301\n",
      "301\n",
      "301\n",
      "301\n",
      "301\n",
      "301\n",
      "301\n",
      "301\n",
      "301\n",
      "301\n",
      "301\n",
      "301\n",
      "301\n",
      "301\n",
      "301\n",
      "301\n",
      "301\n",
      "301\n",
      "301\n",
      "301\n",
      "301\n",
      "301\n",
      "301\n",
      "301\n",
      "301\n",
      "301\n",
      "301\n",
      "301\n",
      "301\n",
      "301\n",
      "301\n",
      "301\n",
      "301\n",
      "301\n",
      "301\n",
      "301\n",
      "301\n",
      "301\n",
      "301\n",
      "301\n",
      "301\n",
      "301\n",
      "301\n",
      "301\n",
      "301\n",
      "301\n",
      "301\n",
      "301\n",
      "301\n",
      "301\n",
      "301\n",
      "301\n",
      "301\n",
      "301\n",
      "301\n",
      "301\n",
      "301\n",
      "301\n",
      "301\n",
      "301\n",
      "301\n",
      "301\n",
      "301\n",
      "301\n",
      "301\n",
      "301\n",
      "301\n",
      "301\n",
      "301\n",
      "301\n",
      "301\n",
      "301\n",
      "301\n",
      "301\n",
      "301\n",
      "301\n",
      "301\n",
      "301\n",
      "301\n",
      "301\n",
      "301\n",
      "301\n",
      "301\n",
      "301\n",
      "301\n",
      "301\n",
      "301\n",
      "301\n",
      "301\n",
      "301\n",
      "301\n",
      "301\n",
      "301\n",
      "301\n",
      "301\n",
      "301\n",
      "301\n",
      "301\n",
      "301\n",
      "301\n",
      "301\n",
      "301\n",
      "301\n",
      "301\n",
      "301\n",
      "301\n"
     ]
    }
   ],
   "source": [
    "import time\n",
    "\n",
    "batch_sizes = np.arange(5, 500, 10)\n",
    "durations_b = []\n",
    "iterations_b = []\n",
    "for batch_size in batch_sizes:\n",
    "    config = {\n",
    "        'descent_name': 'stochastic',\n",
    "        'kwargs': {\n",
    "            'lambda_': 1,\n",
    "            'dimension': X_train.shape[1],\n",
    "            'batch_size': batch_size\n",
    "        }\n",
    "    }\n",
    "\n",
    "    num_tries = 10\n",
    "    avg_durations = 0\n",
    "\n",
    "    for i in range(10):\n",
    "        regression1 = LinearRegression(descent_config=config)\n",
    "        t1 = time.time()\n",
    "        regression1.fit(X_train, y_train.to_numpy())\n",
    "        t2 = time.time()\n",
    "        avg_durations += (t2 - t1)\n",
    "        print(len(regression1.loss_history))\n",
    "    durations_b.append(avg_durations)\n"
   ]
  },
  {
   "cell_type": "code",
   "execution_count": 87,
   "outputs": [
    {
     "data": {
      "text/plain": "<Figure size 720x360 with 1 Axes>",
      "image/png": "[encoded data removed]"
     },
     "metadata": {
      "needs_background": "light"
     },
     "output_type": "display_data"
    }
   ],
   "source": [
    "ax = sns.lineplot(x=batch_sizes, y=durations_b);\n",
    "ax.set(xlabel='batch_sizes', ylabel='avg_durations');\n",
    "ax.figure.set_size_inches((10, 5))"
   ],
   "metadata": {
    "collapsed": false
   }
  },
  {
   "cell_type": "markdown",
   "metadata": {},
   "source": [
    "`### ваше решение тут ###`\n",
    "\n",
    "увеличение размера батчей влечет увеличение скорости сходимости\n",
    "\n"
   ]
  },
  {
   "cell_type": "markdown",
   "metadata": {},
   "source": [
    "## Задание 7. Регуляризация (1 балл)\n",
    "\n",
    "В этом задании вам предстоит исследовать влияние регуляризации на работу различных методов градиентного спуска. Напомним, регуляризация - это добавка к функции потерь, которая штрафует за норму весов. Мы будем использовать l2 регуляризацию, таким образом функция потерь приобретает следующий вид:\n",
    "\n",
    "$$\n",
    "    Q(w) = \\dfrac{1}{\\ell} \\sum\\limits_{i=1}^{\\ell} (a_w(x_i) - y_i)^2 + \\dfrac{\\mu}{2} \\| w \\|^2\n",
    "$$"
   ]
  },
  {
   "cell_type": "markdown",
   "metadata": {},
   "source": [
    "Допишите класс **BaseDescentReg** в файле `descents.py`.\n",
    "\n",
    "Протестируйте ваше решение в контесте.\n",
    "\n",
    "Вставьте ссылку на успешную посылку:\n",
    "\n",
    "* **BaseDescentReg**: https://contest.yandex.ru/contest/54610/run-report/96336922/"
   ]
  },
  {
   "cell_type": "markdown",
   "metadata": {},
   "source": [
    "Найдите лучшие параметры обучения с регуляризацией аналогично 5 заданию. Будем подбирать длину шага $\\lambda$ (`lambda_`) и коэффициент регуляризации $\\mu$ (`mu`).\n",
    "\n",
    "Сравните для каждого метода результаты с регуляризацией и без регуляризации (нужно опять сохранить ошибку и качество по метрике $R^2$ на обучающей и тестовой выборках и количество итераций до сходимости).\n",
    "\n",
    "Постройте для каждого метода график со значениями функции потерь MSE с регуляризацией и без регуляризации (всего должно получиться 4 графика).\n",
    "\n",
    "Посмотрите на получившиеся результаты. Какие можно сделать выводы, как регуляризация влияет на сходимость? Как изменилось качество на обучающей выборке? На тестовой? Чем вы можете объяснить это?"
   ]
  },
  {
   "cell_type": "code",
   "execution_count": 94,
   "metadata": {},
   "outputs": [
    {
     "name": "stderr",
     "output_type": "stream",
     "text": [
      "/var/folders/xq/qzhlj_357vs3kfkjsn1vg4rm0000gn/T/ipykernel_85256/2673594009.py:38: FutureWarning: The frame.append method is deprecated and will be removed from pandas in a future version. Use pandas.concat instead.\n",
      "  descent_stats = descent_stats.append(row, ignore_index=True)\n",
      "/var/folders/xq/qzhlj_357vs3kfkjsn1vg4rm0000gn/T/ipykernel_85256/2673594009.py:38: FutureWarning: The frame.append method is deprecated and will be removed from pandas in a future version. Use pandas.concat instead.\n",
      "  descent_stats = descent_stats.append(row, ignore_index=True)\n",
      "/var/folders/xq/qzhlj_357vs3kfkjsn1vg4rm0000gn/T/ipykernel_85256/2673594009.py:38: FutureWarning: In a future version, object-dtype columns with all-bool values will not be included in reductions with bool_only=True. Explicitly cast to bool dtype instead.\n",
      "  descent_stats = descent_stats.append(row, ignore_index=True)\n",
      "/var/folders/xq/qzhlj_357vs3kfkjsn1vg4rm0000gn/T/ipykernel_85256/2673594009.py:38: FutureWarning: The frame.append method is deprecated and will be removed from pandas in a future version. Use pandas.concat instead.\n",
      "  descent_stats = descent_stats.append(row, ignore_index=True)\n",
      "/var/folders/xq/qzhlj_357vs3kfkjsn1vg4rm0000gn/T/ipykernel_85256/2673594009.py:38: FutureWarning: In a future version, object-dtype columns with all-bool values will not be included in reductions with bool_only=True. Explicitly cast to bool dtype instead.\n",
      "  descent_stats = descent_stats.append(row, ignore_index=True)\n",
      "/var/folders/xq/qzhlj_357vs3kfkjsn1vg4rm0000gn/T/ipykernel_85256/2673594009.py:38: FutureWarning: The frame.append method is deprecated and will be removed from pandas in a future version. Use pandas.concat instead.\n",
      "  descent_stats = descent_stats.append(row, ignore_index=True)\n",
      "/var/folders/xq/qzhlj_357vs3kfkjsn1vg4rm0000gn/T/ipykernel_85256/2673594009.py:38: FutureWarning: In a future version, object-dtype columns with all-bool values will not be included in reductions with bool_only=True. Explicitly cast to bool dtype instead.\n",
      "  descent_stats = descent_stats.append(row, ignore_index=True)\n",
      "/var/folders/xq/qzhlj_357vs3kfkjsn1vg4rm0000gn/T/ipykernel_85256/2673594009.py:38: FutureWarning: The frame.append method is deprecated and will be removed from pandas in a future version. Use pandas.concat instead.\n",
      "  descent_stats = descent_stats.append(row, ignore_index=True)\n",
      "/var/folders/xq/qzhlj_357vs3kfkjsn1vg4rm0000gn/T/ipykernel_85256/2673594009.py:38: FutureWarning: In a future version, object-dtype columns with all-bool values will not be included in reductions with bool_only=True. Explicitly cast to bool dtype instead.\n",
      "  descent_stats = descent_stats.append(row, ignore_index=True)\n",
      "/var/folders/xq/qzhlj_357vs3kfkjsn1vg4rm0000gn/T/ipykernel_85256/2673594009.py:38: FutureWarning: The frame.append method is deprecated and will be removed from pandas in a future version. Use pandas.concat instead.\n",
      "  descent_stats = descent_stats.append(row, ignore_index=True)\n",
      "/var/folders/xq/qzhlj_357vs3kfkjsn1vg4rm0000gn/T/ipykernel_85256/2673594009.py:38: FutureWarning: In a future version, object-dtype columns with all-bool values will not be included in reductions with bool_only=True. Explicitly cast to bool dtype instead.\n",
      "  descent_stats = descent_stats.append(row, ignore_index=True)\n",
      "/var/folders/xq/qzhlj_357vs3kfkjsn1vg4rm0000gn/T/ipykernel_85256/2673594009.py:38: FutureWarning: The frame.append method is deprecated and will be removed from pandas in a future version. Use pandas.concat instead.\n",
      "  descent_stats = descent_stats.append(row, ignore_index=True)\n",
      "/var/folders/xq/qzhlj_357vs3kfkjsn1vg4rm0000gn/T/ipykernel_85256/2673594009.py:38: FutureWarning: In a future version, object-dtype columns with all-bool values will not be included in reductions with bool_only=True. Explicitly cast to bool dtype instead.\n",
      "  descent_stats = descent_stats.append(row, ignore_index=True)\n",
      "/var/folders/xq/qzhlj_357vs3kfkjsn1vg4rm0000gn/T/ipykernel_85256/2673594009.py:38: FutureWarning: The frame.append method is deprecated and will be removed from pandas in a future version. Use pandas.concat instead.\n",
      "  descent_stats = descent_stats.append(row, ignore_index=True)\n",
      "/var/folders/xq/qzhlj_357vs3kfkjsn1vg4rm0000gn/T/ipykernel_85256/2673594009.py:38: FutureWarning: In a future version, object-dtype columns with all-bool values will not be included in reductions with bool_only=True. Explicitly cast to bool dtype instead.\n",
      "  descent_stats = descent_stats.append(row, ignore_index=True)\n"
     ]
    }
   ],
   "source": [
    "descent_stats = pd.DataFrame(columns=['method', 'best_lambda', 'best_mu', 'is_regularized', 'best_val_loss', 'loss_history', 'num_iters', 'best_train_loss', 'best_test_loss', 'r2_train_score', 'r2_test_score'])\n",
    "\n",
    "descent_names = ['full', 'stochastic', 'momentum', 'adam']\n",
    "is_regularized_options = [False, True]\n",
    "lambdas = np.logspace(-5, 1, 7)\n",
    "mus_regularized = np.logspace(-5, 0, 6)\n",
    "mus_not_regularized = [None]\n",
    "\n",
    "for descent_name in descent_names:\n",
    "    for is_regularized in is_regularized_options:\n",
    "        losses = []\n",
    "\n",
    "        descent_config = {'descent_name': descent_name, 'kwargs': {\n",
    "            'dimension': X_train.shape[1]\n",
    "        }, 'regularized': is_regularized}\n",
    "\n",
    "        mus = mus_regularized if is_regularized else mus_not_regularized\n",
    "\n",
    "        for mu in mus:\n",
    "            if is_regularized:\n",
    "                descent_config['kwargs']['mu'] = mu\n",
    "\n",
    "            losses.append(calc_loss(descent_config))\n",
    "\n",
    "        min_index = np.argmin(losses)\n",
    "        row = pd.Series({'method': descent_name, 'is_regularized': is_regularized})\n",
    "        row['best_lambda'] = lambdas[min_index // len(mus_regularized)]\n",
    "        row['best_val_loss'] = losses[min_index]\n",
    "        regression = fit(descent_config)\n",
    "\n",
    "        row['loss_history'] = regression.loss_history\n",
    "        row['num_iters'] = len(regression.loss_history) - 1\n",
    "        row['best_train_loss'] = regression.calc_loss(X_train, y_train.to_numpy())\n",
    "        row['best_test_loss'] = regression.calc_loss(X_test, y_test.to_numpy())\n",
    "        row['r2_train_score'] = r2_score(y_train, regression.predict(X_train))\n",
    "        row['r2_test_score'] = r2_score(y_test, regression.predict(X_test))\n",
    "\n",
    "        descent_stats = descent_stats.append(row, ignore_index=True)\n",
    "\n",
    "descent_stats_reg = descent_stats\n",
    "\n"
   ]
  },
  {
   "cell_type": "code",
   "execution_count": 98,
   "outputs": [
    {
     "data": {
      "text/plain": "<Figure size 1440x1440 with 4 Axes>",
      "image/png": "[encoded data removed]"
     },
     "metadata": {
      "needs_background": "light"
     },
     "output_type": "display_data"
    }
   ],
   "source": [
    "fig, ((ax1), (ax2), (ax3), (ax4)) = plt.subplots(4, 1, figsize=(20, 20))\n",
    "\n",
    "ax1.plot(descent_stats_reg.loc[0, 'loss_history'], alpha=0.9)\n",
    "ax1.plot(descent_stats_reg.loc[1, 'loss_history'], alpha=0.9)\n",
    "ax1.legend(['Без регуляризации', 'mu={:.5f}'.format(descent_stats_reg.loc[1]['best_mu'])])\n",
    "plt.setp(ax1, xlabel='Number of iterations', ylabel='MSE loss')\n",
    "\n",
    "ax2.plot(descent_stats_reg.loc[2, 'loss_history'], alpha=0.9)\n",
    "ax2.plot(descent_stats_reg.loc[3, 'loss_history'], alpha=0.9)\n",
    "ax2.legend(['Без регуляризации', 'mu={:.5f}'.format(descent_stats_reg.loc[3]['best_mu'])])\n",
    "plt.setp(ax2, xlabel='Number of iterations', ylabel='MSE loss')\n",
    "\n",
    "ax3.plot(descent_stats_reg.loc[4, 'loss_history'], alpha=0.9)\n",
    "ax3.plot(descent_stats_reg.loc[5, 'loss_history'], alpha=0.9)\n",
    "ax3.legend(['Без регуляризации', 'mu={:.5f}'.format(descent_stats_reg.loc[5]['best_mu'])])\n",
    "plt.setp(ax3, xlabel='Number of iterations', ylabel='MSE loss')\n",
    "\n",
    "ax4.plot(descent_stats_reg.loc[6, 'loss_history'], alpha=0.9)\n",
    "ax4.plot(descent_stats_reg.loc[7, 'loss_history'], alpha=0.9)\n",
    "ax4.legend(['Без регуляризации', 'mu={:.5f}'.format(descent_stats_reg.loc[7]['best_mu'])])\n",
    "plt.setp(ax4, xlabel='Number of iterations', ylabel='MSE loss')\n",
    "\n",
    "plt.tight_layout()\n"
   ],
   "metadata": {
    "collapsed": false
   }
  },
  {
   "cell_type": "markdown",
   "metadata": {},
   "source": [
    "`### ваше решение тут ###`\n",
    "\n",
    "с регуляризацией растет качество обучения и скорость сходимости\n",
    "\n"
   ]
  },
  {
   "cell_type": "markdown",
   "metadata": {},
   "source": [
    "## Задание 8. Альтернативная функция потерь (1 балл)\n",
    "\n",
    "В этом задании вам предстоит использовать другую функцию потерь для нашей задачи регрессии. В качестве функции потерь мы выбрали **Log-Cosh**:\n",
    "\n",
    "$$\n",
    "    L(y, a)\n",
    "    =\n",
    "    \\log\\left(\\cosh(a - y)\\right).\n",
    "$$"
   ]
  },
  {
   "cell_type": "markdown",
   "metadata": {},
   "source": [
    "Самостоятельно продифференцируйте данную функцию потерь чтобы найти её градиент:\n",
    "\n",
    "`### ваше решение тут ###`"
   ]
  },
  {
   "cell_type": "markdown",
   "metadata": {},
   "source": [
    "Программно реализуйте градиентный спуск с данной функцией потерь в файле `descents.py`, обучите все четыре метода (без регуляризации) аналогично 5 заданию, сравните их качество с четырьмя методами из 5 задания.\n",
    "\n",
    "Пример того, как можно запрограммировать использование нескольких функций потерь внутри одного класса градиентного спуска:\n",
    "\n",
    "\n",
    "```python\n",
    "from enum import auto\n",
    "from enum import Enum\n",
    "\n",
    "import numpy as np\n",
    "\n",
    "class LossFunction(Enum):\n",
    "    MSE = auto()\n",
    "    MAE = auto()\n",
    "    LogCosh = auto()\n",
    "    Huber = auto()\n",
    "\n",
    "...\n",
    "class BaseDescent:\n",
    "    def __init__(self, loss_function: LossFunction = LossFunction.MSE):\n",
    "        self.loss_function: LossFunction = loss_function\n",
    "\n",
    "    def calc_gradient(self, x: np.ndarray, y: np.ndarray) -> np.ndarray:\n",
    "        if self.loss_function is LossFunction.MSE:\n",
    "            return ...\n",
    "        elif self.loss_function is LossFunction.LogCosh:\n",
    "            return ...\n",
    "...\n",
    "\n",
    "```"
   ]
  },
  {
   "cell_type": "code",
   "execution_count": null,
   "outputs": [],
   "source": [],
   "metadata": {
    "collapsed": false
   }
  },
  {
   "cell_type": "code",
   "execution_count": 167,
   "outputs": [],
   "source": [
    "from descents import LossFunction"
   ],
   "metadata": {
    "collapsed": false
   }
  },
  {
   "cell_type": "code",
   "execution_count": 170,
   "metadata": {},
   "outputs": [
    {
     "name": "stderr",
     "output_type": "stream",
     "text": [
      "/var/folders/xq/qzhlj_357vs3kfkjsn1vg4rm0000gn/T/ipykernel_85256/3892929363.py:47: FutureWarning: The frame.append method is deprecated and will be removed from pandas in a future version. Use pandas.concat instead.\n",
      "  descent_stats_logcosh = descent_stats_logcosh.append(row, ignore_index=True)\n",
      "/Users/dariaonikova/Desktop/studies/ami-year3/ml/descents.py:88: RuntimeWarning: overflow encountered in cosh\n",
      "  return np.log(np.cosh(residual)).sum() / n\n",
      "/var/folders/xq/qzhlj_357vs3kfkjsn1vg4rm0000gn/T/ipykernel_85256/3892929363.py:47: FutureWarning: The frame.append method is deprecated and will be removed from pandas in a future version. Use pandas.concat instead.\n",
      "  descent_stats_logcosh = descent_stats_logcosh.append(row, ignore_index=True)\n",
      "/Users/dariaonikova/Desktop/studies/ami-year3/ml/descents.py:88: RuntimeWarning: overflow encountered in cosh\n",
      "  return np.log(np.cosh(residual)).sum() / n\n",
      "/var/folders/xq/qzhlj_357vs3kfkjsn1vg4rm0000gn/T/ipykernel_85256/3892929363.py:47: FutureWarning: The frame.append method is deprecated and will be removed from pandas in a future version. Use pandas.concat instead.\n",
      "  descent_stats_logcosh = descent_stats_logcosh.append(row, ignore_index=True)\n",
      "/Users/dariaonikova/Desktop/studies/ami-year3/ml/descents.py:88: RuntimeWarning: overflow encountered in cosh\n",
      "  return np.log(np.cosh(residual)).sum() / n\n",
      "/var/folders/xq/qzhlj_357vs3kfkjsn1vg4rm0000gn/T/ipykernel_85256/3892929363.py:47: FutureWarning: The frame.append method is deprecated and will be removed from pandas in a future version. Use pandas.concat instead.\n",
      "  descent_stats_logcosh = descent_stats_logcosh.append(row, ignore_index=True)\n",
      "/Users/dariaonikova/Desktop/studies/ami-year3/ml/descents.py:88: RuntimeWarning: overflow encountered in cosh\n",
      "  return np.log(np.cosh(residual)).sum() / n\n",
      "/var/folders/xq/qzhlj_357vs3kfkjsn1vg4rm0000gn/T/ipykernel_85256/3892929363.py:47: FutureWarning: The frame.append method is deprecated and will be removed from pandas in a future version. Use pandas.concat instead.\n",
      "  descent_stats_logcosh = descent_stats_logcosh.append(row, ignore_index=True)\n",
      "/Users/dariaonikova/Desktop/studies/ami-year3/ml/descents.py:88: RuntimeWarning: overflow encountered in cosh\n",
      "  return np.log(np.cosh(residual)).sum() / n\n",
      "/var/folders/xq/qzhlj_357vs3kfkjsn1vg4rm0000gn/T/ipykernel_85256/3892929363.py:47: FutureWarning: The frame.append method is deprecated and will be removed from pandas in a future version. Use pandas.concat instead.\n",
      "  descent_stats_logcosh = descent_stats_logcosh.append(row, ignore_index=True)\n",
      "/Users/dariaonikova/Desktop/studies/ami-year3/ml/descents.py:88: RuntimeWarning: overflow encountered in cosh\n",
      "  return np.log(np.cosh(residual)).sum() / n\n",
      "/var/folders/xq/qzhlj_357vs3kfkjsn1vg4rm0000gn/T/ipykernel_85256/3892929363.py:47: FutureWarning: The frame.append method is deprecated and will be removed from pandas in a future version. Use pandas.concat instead.\n",
      "  descent_stats_logcosh = descent_stats_logcosh.append(row, ignore_index=True)\n",
      "/Users/dariaonikova/Desktop/studies/ami-year3/ml/descents.py:88: RuntimeWarning: overflow encountered in cosh\n",
      "  return np.log(np.cosh(residual)).sum() / n\n",
      "/var/folders/xq/qzhlj_357vs3kfkjsn1vg4rm0000gn/T/ipykernel_85256/3892929363.py:47: FutureWarning: The frame.append method is deprecated and will be removed from pandas in a future version. Use pandas.concat instead.\n",
      "  descent_stats_logcosh = descent_stats_logcosh.append(row, ignore_index=True)\n"
     ]
    }
   ],
   "source": [
    "descent_stats_logcosh = pd.DataFrame(columns=['method', 'best_lambda', 'best_val_loss', 'loss_history', 'num_iters', 'best_train_loss', 'best_test_loss', 'r2_train_score', 'r2_test_score'])\n",
    "\n",
    "descent_names = ['full', 'stochastic', 'momentum', 'adam']\n",
    "lambdas = np.logspace(-5, 1, 7)\n",
    "\n",
    "for descent_name in descent_names:\n",
    "    losses = []\n",
    "\n",
    "    descent_config = {\n",
    "        'descent_name': descent_name,\n",
    "        'kwargs': {\n",
    "            'dimension': X_train.shape[1],\n",
    "            'loss_function': LossFunction.LogCosh\n",
    "        }\n",
    "    }\n",
    "\n",
    "    for lambda_ in lambdas:\n",
    "        descent_config['kwargs']['lambda_'] = lambda_\n",
    "        losses.append(calc_loss(descent_config))\n",
    "\n",
    "    best_lambda_index = np.argmin(losses)\n",
    "    best_lambda = lambdas[best_lambda_index]\n",
    "    best_val_loss = np.min(losses)\n",
    "\n",
    "    descent_config['kwargs']['lambda_'] = best_lambda\n",
    "    regression = fit(descent_config)\n",
    "\n",
    "    loss_history = regression.loss_history\n",
    "    num_iters = len(loss_history) - 1\n",
    "    best_train_loss = regression.calc_loss(X_train, y_train.to_numpy())\n",
    "    best_test_loss = regression.calc_loss(X_test, y_test.to_numpy())\n",
    "    r2_train_score = r2_score(y_train, regression.predict(X_train))\n",
    "    r2_test_score = r2_score(y_test, regression.predict(X_test))\n",
    "\n",
    "    row = pd.Series({\n",
    "        'method': descent_name,\n",
    "        'best_lambda': best_lambda,\n",
    "        'best_val_loss': best_val_loss,\n",
    "        'loss_history': loss_history,\n",
    "        'num_iters': num_iters,\n",
    "        'best_train_loss': best_train_loss,\n",
    "        'best_test_loss': best_test_loss,\n",
    "        'r2_train_score': r2_train_score,\n",
    "        'r2_test_score': r2_test_score\n",
    "    })\n",
    "\n",
    "    descent_stats_logcosh = descent_stats_logcosh.append(row, ignore_index=True)\n",
    "\n"
   ]
  },
  {
   "cell_type": "markdown",
   "metadata": {},
   "source": [
    "### Кулинарно-социализационный бонус. (0.5 балла).\n",
    "\n",
    "Как мы знаем, осень прекрасная пора, время пробовать новое и делиться теплом с друзьями и близкими. Выберите рецепт, который соответствует вашему настроению, приготовьте выбранное блюдо и угостите хотя бы одного человека им. Кратко опишите ваши впечатления, прикрепите рецепт и фотографии блюда и довольного гостя."
   ]
  },
  {
   "cell_type": "markdown",
   "metadata": {},
   "source": [
    "`### ваш кулинарный опыт тут ###`"
   ]
  },
  {
   "cell_type": "markdown",
   "metadata": {},
   "source": [
    "### Бонус 1. Другие методы градиентного спуска (1 балл).\n",
    "\n",
    "По желанию выберите метод градиентного спуска из следующего списка и самостоятельно реализуйте его в файле `descents.py`. Обучите линейную регрессию с помощью этого метода, сравните с методами из основной части домашнего задания.\n",
    "\n",
    "`AdaMax` (вариация Adam основанная на $l_{\\infty}$), `Nadam` (вариация Adam совмещенная с методом импульса Нестерова), `AMSGrad` (ещё одна вариация Adam)."
   ]
  },
  {
   "cell_type": "code",
   "execution_count": null,
   "metadata": {},
   "outputs": [],
   "source": [
    "# YOUR CODE:"
   ]
  },
  {
   "cell_type": "markdown",
   "metadata": {},
   "source": [
    "### Бонус 2. Другие функции потерь (1 балл).\n",
    "\n",
    "Аналогично 8 заданию реализуйте две функции потерь - **MAE** и **Huber**."
   ]
  },
  {
   "cell_type": "markdown",
   "metadata": {},
   "source": [
    "Самостоятельно продифференцируйте данные функции потерь, чтобы найти их градиенты:\n",
    "\n",
    "`### ваше решение тут ###`"
   ]
  },
  {
   "cell_type": "markdown",
   "metadata": {},
   "source": [
    "Программно реализуйте градиентный спуск с данными функциями потерь в файле `descents.py`, обучите все четыре метода (без регуляризации) аналогично 5 заданию, сравните их качество с четырьмя методами из 5 задания.\n",
    "\n",
    "Сравните между собой *для каждого метода отдельно* качество для разных функций потерь. Какая оказалась лучше? Как вы думаете почему?"
   ]
  },
  {
   "cell_type": "code",
   "execution_count": null,
   "metadata": {},
   "outputs": [],
   "source": [
    "# YOUR CODE:"
   ]
  }
 ],
 "metadata": {
  "kernelspec": {
   "display_name": "Python 3 (ipykernel)",
   "language": "python",
   "name": "python3"
  },
  "language_info": {
   "codemirror_mode": {
    "name": "ipython",
    "version": 3
   },
   "file_extension": ".py",
   "mimetype": "text/x-python",
   "name": "python",
   "nbconvert_exporter": "python",
   "pygments_lexer": "ipython3",
   "version": "3.10.6"
  }
 },
 "nbformat": 4,
 "nbformat_minor": 4
}
